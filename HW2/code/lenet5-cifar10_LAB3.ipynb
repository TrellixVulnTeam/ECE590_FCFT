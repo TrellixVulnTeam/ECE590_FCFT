{
 "cells": [
  {
   "cell_type": "markdown",
   "metadata": {},
   "source": [
    "# Training LeNet-5 on CIFAR-10\n",
    "In this notebook, we will try to deploy the famous LeNet-5 to solve a simple image classification task, the CIFAR-10. CIFAR-10 is composed of 60K images from 10 categories. After splitting the dataset, we have 45K/5K/10K images for train/valiation/test dataset.\n",
    "In this notebook, only the labels of training/validation dataset is visible to you, so you can use the training and validation data to tune your model. After you submitted your model, your final grade will be determined on the model performance on the holdout test dataset."
   ]
  },
  {
   "cell_type": "markdown",
   "metadata": {},
   "source": [
    "### Step 0 Setting up LeNet-5 model\n",
    "As you have set up the LeNet-5 model in Homework 1, we will just move the implementation of LeNet-5 model here, so you can use it for this homework."
   ]
  },
  {
   "cell_type": "code",
   "execution_count": 137,
   "metadata": {
    "ExecuteTime": {
     "end_time": "2020-09-15T04:46:22.231275Z",
     "start_time": "2020-09-15T04:46:19.511325Z"
    }
   },
   "outputs": [],
   "source": [
    "import argparse\n",
    "import os, sys\n",
    "import time\n",
    "import datetime\n",
    "\n",
    "# Import pytorch dependencies\n",
    "import torch\n",
    "import torch.nn as nn\n",
    "import torch.nn.functional as F\n",
    "import torchvision\n",
    "import torchvision.transforms as transforms\n",
    "import torch.optim as optim\n",
    "from tqdm import tqdm_notebook as tqdm"
   ]
  },
  {
   "cell_type": "code",
   "execution_count": 138,
   "metadata": {
    "ExecuteTime": {
     "end_time": "2020-09-15T04:46:22.248192Z",
     "start_time": "2020-09-15T04:46:22.233794Z"
    }
   },
   "outputs": [],
   "source": [
    "import math\n",
    "\n",
    "def swish(x):\n",
    "    return x * torch.sigmoid(x)\n",
    "# Create the neural network module: LeNet-5\n",
    "class ResNet20(nn.Module):\n",
    "    def __init__(self):\n",
    "        super(ResNet20, self).__init__()\n",
    "        \n",
    "\n",
    "        self.conv0 = nn.Conv2d(3, 16, 3)\n",
    "        self.norm0 = nn.BatchNorm2d(16)\n",
    "\n",
    "\n",
    "        self.conv11 = nn.Conv2d(16, 16, 3,padding=1)\n",
    "        self.norm11 = nn.BatchNorm2d(16)\n",
    "        self.conv12 = nn.Conv2d(16, 16, 3,padding=1)\n",
    "        self.norm12 = nn.BatchNorm2d(16)\n",
    "        self.conv13 = nn.Conv2d(16, 16, 3,padding=1)\n",
    "        self.norm13 = nn.BatchNorm2d(16)\n",
    "        self.conv14 = nn.Conv2d(16, 16, 3,padding=1)\n",
    "        self.norm14 = nn.BatchNorm2d(16)\n",
    "        self.conv15 = nn.Conv2d(16, 16, 3,padding=1)\n",
    "        self.norm15 = nn.BatchNorm2d(16)\n",
    "        self.conv16 = nn.Conv2d(16, 16, 3,padding=1)\n",
    "        self.norm16 = nn.BatchNorm2d(16)\n",
    "\n",
    "        self.con1to2=nn.Conv2d(16, 32, 1,stride=2) \n",
    "        self.norm1to2 = nn.BatchNorm2d(32)\n",
    "\n",
    "        self.conv21 = nn.Conv2d(16, 32, 3,padding=1,stride=2)\n",
    "        self.norm21 = nn.BatchNorm2d(32)\n",
    "        self.conv22 = nn.Conv2d(32, 32, 3,padding=1)\n",
    "        self.norm22 = nn.BatchNorm2d(32)\n",
    "        self.conv23 = nn.Conv2d(32, 32, 3,padding=1)\n",
    "        self.norm23 = nn.BatchNorm2d(32)\n",
    "        self.conv24 = nn.Conv2d(32, 32, 3,padding=1)\n",
    "        self.norm24 = nn.BatchNorm2d(32)\n",
    "        self.conv25 = nn.Conv2d(32, 32, 3,padding=1)\n",
    "        self.norm25 = nn.BatchNorm2d(32)\n",
    "        self.conv26 = nn.Conv2d(32, 32, 3,padding=1)\n",
    "        self.norm26 = nn.BatchNorm2d(32)\n",
    "\n",
    "        self.con2to3=nn.Conv2d(32, 64, 1,stride=2) \n",
    "        self.norm2to3 = nn.BatchNorm2d(64)\n",
    "\n",
    "        self.conv31 = nn.Conv2d(32, 64, 3,padding=1,stride=2)\n",
    "        self.norm31 = nn.BatchNorm2d(64)\n",
    "        self.conv32 = nn.Conv2d(64, 64, 3,padding=1)\n",
    "        self.norm32 = nn.BatchNorm2d(64)\n",
    "        self.conv33 = nn.Conv2d(64, 64, 3,padding=1)\n",
    "        self.norm33 = nn.BatchNorm2d(64)\n",
    "        self.conv34 = nn.Conv2d(64, 64, 3,padding=1)\n",
    "        self.norm34 = nn.BatchNorm2d(64)\n",
    "        self.conv35 = nn.Conv2d(64, 64, 3,padding=1)\n",
    "        self.norm35 = nn.BatchNorm2d(64)\n",
    "        self.conv36 = nn.Conv2d(64, 64, 3,padding=1)\n",
    "        self.norm36 = nn.BatchNorm2d(64)\n",
    "\n",
    "        self.avePool=nn.AvgPool2d(8) \n",
    "        \n",
    "        self.fc   = nn.Linear(64, 10)\n",
    "\n",
    "        # self.softmax=nn.Softmax()\n",
    "        \n",
    "\n",
    "    def forward(self, x):\n",
    "        out0 = F.relu(self.conv0(x))\n",
    "        out0 = self.norm0(out0)\n",
    "\n",
    "        out11=F.relu(self.conv11(out0))\n",
    "        out11=self.norm11(out11)\n",
    "        out12=F.relu(self.conv12(out11))\n",
    "        out12=self.norm12(out12)\n",
    "        out13=F.relu(self.conv13(out12+out0))\n",
    "        out13=self.norm13(out13)\n",
    "        out14=F.relu(self.conv14(out13))\n",
    "        out14=self.norm14(out14)\n",
    "        out15=F.relu(self.conv15(out14+out12))\n",
    "        out15=self.norm15(out15)\n",
    "        out16=F.relu(self.conv16(out15))\n",
    "        out16=self.norm16(out16)\n",
    "\n",
    "\n",
    "        out21=F.relu(self.conv21(out16+out14))\n",
    "        out21=self.norm21(out21)\n",
    "        out22=F.relu(self.conv22(out21))\n",
    "        out22=self.norm22(out22)\n",
    "        out16t=self.con1to2(out16)\n",
    "        out16t=self.norm1to2(out16t)\n",
    "        out23=F.relu(self.conv23(out22+out16t))\n",
    "        out23=self.norm23(out23)\n",
    "        out24=F.relu(self.conv24(out23))\n",
    "        out24=self.norm24(out24)\n",
    "        out25=F.relu(self.conv25(out24+out22))\n",
    "        out25=self.norm25(out25)\n",
    "        out26=F.relu(self.conv26(out25))\n",
    "        out26=self.norm26(out26)\n",
    "\n",
    "        out31=F.relu(self.conv31(out26+out24))\n",
    "        out31=self.norm31(out31)\n",
    "        out32=F.relu(self.conv32(out31))\n",
    "        out32=self.norm32(out32)\n",
    "        out26t=self.con2to3(out26)\n",
    "        out26t=self.norm2to3(out26t)\n",
    "        out33=F.relu(self.conv33(out32+out26t))\n",
    "        out33=self.norm33(out33)\n",
    "        out34=F.relu(self.conv34(out33))\n",
    "        out34=self.norm34(out34)\n",
    "        out35=F.relu(self.conv35(out34+out32))\n",
    "        out35=self.norm35(out35)\n",
    "        out36=F.relu(self.conv36(out35))\n",
    "        out36=self.norm36(out36)+out34\n",
    "\n",
    "        out=self.avePool(out36)\n",
    "        out = out.view(out.size(0), -1)\n",
    "        out=self.fc(out)\n",
    "        # out=self.softmax(out)\n",
    "       \n",
    "        return out\n",
    "\n",
    "    \"\"\"\n",
    "    def _initialize_weights(self):\n",
    "        for m in self.modules():\n",
    "            if isinstance(m, nn.Conv2d):\n",
    "                n = m.kernel_size[0] * m.kernel_size[1] * (m.in_channels + m.out_channels)\n",
    "                m.weight.data.normal_(0, math.sqrt(2. / n))\n",
    "                if m.bias is not None:\n",
    "                    m.bias.data.zero_()\n",
    "            elif isinstance(m, nn.BatchNorm2d):\n",
    "                m.weight.data.fill_(1)\n",
    "                m.bias.data.zero_()\n",
    "            elif isinstance(m, nn.Linear):\n",
    "                n = m.weight.size(1)\n",
    "                m.weight.data.normal_(0, 0.01)\n",
    "                m.bias.data.zero_() \"\"\""
   ]
  },
  {
   "cell_type": "markdown",
   "metadata": {},
   "source": [
    "### Step 1: Setting up preprocessing functions.\n",
    "Preprocessing is very important because it prepares your data for proceeding training steps.\n",
    "Write functions to load dataset and preprocess the incoming data. We recommend that the preprocess scheme \\textbf{must} include normalize, standardization, batch shuffling to make sure the training \n",
    "process goes smoothly. The preprocess scheme may also contain some data augmentation methods \n",
    "(e.g., random crop, random flip, etc.). \n",
    "\n",
    "Reference value for mean/std:\n",
    "\n",
    "**mean(RGB-format): (0.4914, 0.4822, 0.4465)**\n",
    "\n",
    "**std(RGB-format): (0.2023, 0.1994, 0.2010)**"
   ]
  },
  {
   "cell_type": "code",
   "execution_count": 139,
   "metadata": {
    "ExecuteTime": {
     "end_time": "2020-09-15T04:46:22.266974Z",
     "start_time": "2020-09-15T04:46:22.257233Z"
    }
   },
   "outputs": [],
   "source": [
    "# Specify preprocessing function.\n",
    "# Reference mean/std value for \n",
    "transform_train  = transforms.Compose([\n",
    "          transforms.RandomCrop(size=[32,32],padding=4),\n",
    "        transforms.RandomHorizontalFlip(),\n",
    "       transforms.ToTensor(),\n",
    "        transforms.Normalize((0.4914, 0.4822, 0.4465), (0.2023, 0.1994, 0.2010)),\n",
    "    ])\n",
    "\n",
    "transform_val = transforms.Compose([\n",
    "        transforms.RandomCrop(size=[32,32],padding=4),\n",
    "        transforms.RandomHorizontalFlip(),\n",
    "        transforms.ToTensor(),\n",
    "        transforms.Normalize((0.4914, 0.4822, 0.4465), (0.2023, 0.1994, 0.2010)),\n",
    "    ])\n"
   ]
  },
  {
   "cell_type": "markdown",
   "metadata": {},
   "source": [
    "### Step 2: Setting up data I/O\n",
    "Data I/O reads data from the dataset and prepares it for further procedures. Note that you have to link transformation with data I/O so that these operations can be interleaved. Thus, the training process can be more efficient."
   ]
  },
  {
   "cell_type": "code",
   "execution_count": 140,
   "metadata": {
    "ExecuteTime": {
     "end_time": "2020-09-15T04:46:26.844376Z",
     "start_time": "2020-09-15T04:46:22.274174Z"
    },
    "tags": []
   },
   "outputs": [
    {
     "output_type": "stream",
     "name": "stdout",
     "text": "Using downloaded and verified file: ./data/cifar10_trainval_F20.zip\nExtracting ./data/cifar10_trainval_F20.zip to ./data\nFiles already downloaded and verified\nTraining dataset has 45000 examples!\nUsing downloaded and verified file: ./data/cifar10_trainval_F20.zip\nExtracting ./data/cifar10_trainval_F20.zip to ./data\nFiles already downloaded and verified\nValidation dataset has 5000 examples!\n"
    }
   ],
   "source": [
    "# You cannot change this line.\n",
    "from tools.dataloader import CIFAR10\n",
    "# Call the dataset Loader\n",
    "DATAROOT = \"./data\"\n",
    "TRAIN_BATCH_SIZE = 128\n",
    "VAL_BATCH_SIZE = 100\n",
    "trainset = CIFAR10(root=DATAROOT, train=True, download=True, transform=transform_train)\n",
    "trainloader = torch.utils.data.DataLoader(trainset, batch_size=TRAIN_BATCH_SIZE, shuffle=True, num_workers=4)\n",
    "valset = CIFAR10(root=DATAROOT, train=False, download=True, transform=transform_val)\n",
    "valloader = torch.utils.data.DataLoader(valset, batch_size=VAL_BATCH_SIZE, shuffle=False, num_workers=4)"
   ]
  },
  {
   "cell_type": "markdown",
   "metadata": {},
   "source": [
    "### Step 3: Instantialize your LeNet-5 model and deploy it to GPU devices.\n",
    "You may want to deploy your model to GPU device for efficient training. Please assign your model to GPU if possible. If you are training on a machine without GPUs, please deploy your model to CPUs."
   ]
  },
  {
   "cell_type": "code",
   "execution_count": 141,
   "metadata": {
    "ExecuteTime": {
     "end_time": "2020-09-15T04:46:26.861182Z",
     "start_time": "2020-09-15T04:46:26.846976Z"
    },
    "tags": []
   },
   "outputs": [
    {
     "output_type": "stream",
     "name": "stdout",
     "text": "Train on GPU...\n"
    }
   ],
   "source": [
    "# Specify the device for computation\n",
    "device = 'cuda' if torch.cuda.is_available() else 'cpu'\n",
    "net = ResNet20()\n",
    "net = net.to(device)\n",
    "if device =='cuda':\n",
    "    print(\"Train on GPU...\")\n",
    "else:\n",
    "    print(\"Train on CPU...\")"
   ]
  },
  {
   "cell_type": "markdown",
   "metadata": {},
   "source": [
    "### Hyperparameter settings\n",
    "Hyperparameters are quite crucial in determining the performance of our model. The default hyperparameter settings are sufficient for a decent result. You may tune them wisely and carefully for better results."
   ]
  },
  {
   "cell_type": "code",
   "execution_count": 142,
   "metadata": {
    "ExecuteTime": {
     "end_time": "2020-09-15T04:46:26.880428Z",
     "start_time": "2020-09-15T04:46:26.866960Z"
    }
   },
   "outputs": [],
   "source": [
    "# Initial learning rate\n",
    "INITIAL_LR = 0.1\n",
    "lr_list=[1.0, 0.1, 0.05, 0.02, 0.01, 0.005, 0.002, 0.001]\n",
    "wd_list=[0.01, 0.001, 0.0001, 0.00001, 0.0]\n",
    "# Momentum for optimizer.\n",
    "MOMENTUM = 0.9\n",
    "# Regularization\n",
    "REG = 1e-4\n",
    "# Total number of training epochs\n",
    "EPOCHS = 200\n",
    "# Learning rate decay policy.\n",
    "DECAY_EPOCHS = 50\n",
    "DECAY = 0.1"
   ]
  },
  {
   "cell_type": "markdown",
   "metadata": {},
   "source": [
    "### Handling weights load/save protocols.\n",
    "This handles the weight loading/saving protocols.You may be able to load from checkpoints."
   ]
  },
  {
   "cell_type": "code",
   "execution_count": 143,
   "metadata": {
    "ExecuteTime": {
     "end_time": "2020-09-15T04:46:26.907164Z",
     "start_time": "2020-09-15T04:46:26.886013Z"
    },
    "tags": []
   },
   "outputs": [
    {
     "output_type": "stream",
     "name": "stdout",
     "text": "Training from scratch ...\nStarting from learning rate 0.100000:\n"
    }
   ],
   "source": [
    "CHECKPOINT_PATH = \"./saved_model\"\n",
    "# FLAG for loading the pretrained model\n",
    "TRAIN_FROM_SCRATCH = True\n",
    "# Code for loading checkpoint and recover epoch id.\n",
    "CKPT_PATH = \"./saved_model/model.h5\"\n",
    "def get_checkpoint(ckpt_path):\n",
    "    try:\n",
    "        ckpt = torch.load(ckpt_path)\n",
    "    except Exception as e:\n",
    "        print(e)\n",
    "        return None\n",
    "    return ckpt\n",
    "\n",
    "ckpt = get_checkpoint(CKPT_PATH)\n",
    "if ckpt is None or TRAIN_FROM_SCRATCH:\n",
    "    if not TRAIN_FROM_SCRATCH:\n",
    "        print(\"Checkpoint not found.\")\n",
    "    print(\"Training from scratch ...\")\n",
    "    start_epoch = 0\n",
    "    current_learning_rate = INITIAL_LR\n",
    "else:\n",
    "    print(\"Successfully loaded checkpoint: %s\" %CKPT_PATH)\n",
    "    net.load_state_dict(ckpt['net'])\n",
    "    start_epoch = ckpt['epoch'] + 1\n",
    "    current_learning_rate = ckpt['lr']\n",
    "    print(\"Starting from epoch %d \" %start_epoch)\n",
    "\n",
    "print(\"Starting from learning rate %f:\" %current_learning_rate)"
   ]
  },
  {
   "cell_type": "markdown",
   "metadata": {},
   "source": [
    "### Step 4 Setting up loss functions and Optimizers\n",
    "Loss function is your objective to train the neural networks. Typically, we use multi-class cross entropy as objectives for classification models (e.g., CIFAR-10, MNIST). In this homework, we use SGD optimizer with momentum as our optimizer. You need to formulate the cross-entropy loss function in PyTorch.\n",
    "You should also specify a PyTorch Optimizer to optimize this loss function."
   ]
  },
  {
   "cell_type": "code",
   "execution_count": 144,
   "metadata": {
    "ExecuteTime": {
     "end_time": "2020-09-15T04:46:26.921607Z",
     "start_time": "2020-09-15T04:46:26.914158Z"
    }
   },
   "outputs": [],
   "source": [
    "# Create loss function and specify regularization\n",
    "criterion = nn.CrossEntropyLoss()\n",
    "# Add optimizer\n",
    "optimizer = optim.SGD(params=net.parameters(), lr=current_learning_rate, momentum=MOMENTUM, weight_decay=REG, nesterov=False)"
   ]
  },
  {
   "cell_type": "markdown",
   "metadata": {},
   "source": [
    "### Step 5: Start the training process.\n",
    "Congratulations! You have completed all of the previous steps and it is time to train our neural network.\n",
    "Training a neural network usually composes the following 3 parts: \n",
    "\n",
    "**i) Get a batch of data from the dataloader and copy it to your device (GPU)**\n",
    "\n",
    "**ii) Do a forward pass to get the output logits from the neural network. Compute the forward loss.**\n",
    "\n",
    "**iii) Do a backward pass (back-propagation) to compute gradients of all weights with respect to the loss.**\n",
    "\n",
    "You will also need to compute accuracy within all these parts to justify that your model is doing well on the dataset.\n"
   ]
  },
  {
   "cell_type": "code",
   "execution_count": 145,
   "metadata": {
    "ExecuteTime": {
     "end_time": "2020-09-15T05:00:07.585362Z",
     "start_time": "2020-09-15T04:46:26.927623Z"
    },
    "scrolled": false,
    "tags": [
     "outputPrepend"
    ]
   },
   "outputs": [
    {
     "output_type": "stream",
     "name": "stdout",
     "text": "h 90:\nTraining loss: 0.0625, Training accuracy: 0.9784\n2020-09-19 20:58:31.372999\nValidation...\nValidation loss: 0.3723, Validation accuracy: 0.8960\n2020-09-19 20:58:32.223814\nEpoch 91:\nTraining loss: 0.0626, Training accuracy: 0.9786\n2020-09-19 20:58:44.196825\nValidation...\nValidation loss: 0.3545, Validation accuracy: 0.8994\n2020-09-19 20:58:45.064538\nEpoch 92:\nTraining loss: 0.0597, Training accuracy: 0.9796\n2020-09-19 20:58:57.207138\nValidation...\nValidation loss: 0.3722, Validation accuracy: 0.8942\n2020-09-19 20:58:58.058696\nEpoch 93:\nTraining loss: 0.0617, Training accuracy: 0.9788\n2020-09-19 20:59:10.160378\nValidation...\nValidation loss: 0.3784, Validation accuracy: 0.8932\n2020-09-19 20:59:11.039911\nEpoch 94:\nTraining loss: 0.0581, Training accuracy: 0.9803\n2020-09-19 20:59:23.110156\nValidation...\nValidation loss: 0.3602, Validation accuracy: 0.8992\n2020-09-19 20:59:24.003979\nEpoch 95:\nTraining loss: 0.0606, Training accuracy: 0.9789\n2020-09-19 20:59:36.152790\nValidation...\nValidation loss: 0.3745, Validation accuracy: 0.8970\n2020-09-19 20:59:37.028351\nEpoch 96:\nTraining loss: 0.0600, Training accuracy: 0.9791\n2020-09-19 20:59:49.408554\nValidation...\nValidation loss: 0.3761, Validation accuracy: 0.8952\n2020-09-19 20:59:50.276693\nEpoch 97:\nTraining loss: 0.0586, Training accuracy: 0.9797\n2020-09-19 21:00:02.265989\nValidation...\nValidation loss: 0.3546, Validation accuracy: 0.9034\n2020-09-19 21:00:03.184757\nEpoch 98:\nTraining loss: 0.0564, Training accuracy: 0.9806\n2020-09-19 21:00:15.566352\nValidation...\nValidation loss: 0.3588, Validation accuracy: 0.9020\n2020-09-19 21:00:16.428167\nEpoch 99:\nTraining loss: 0.0559, Training accuracy: 0.9818\n2020-09-19 21:00:28.404134\nValidation...\nValidation loss: 0.3786, Validation accuracy: 0.8972\n2020-09-19 21:00:29.314968\nEpoch 100:\nTraining loss: 0.0564, Training accuracy: 0.9812\n2020-09-19 21:00:41.141896\nValidation...\nValidation loss: 0.3839, Validation accuracy: 0.9006\nCurrent learning rate has decayed to 0.001000\n2020-09-19 21:00:41.974004\nEpoch 101:\nTraining loss: 0.0495, Training accuracy: 0.9834\n2020-09-19 21:00:54.152733\nValidation...\nValidation loss: 0.3639, Validation accuracy: 0.9068\n2020-09-19 21:00:55.014566\nEpoch 102:\nTraining loss: 0.0440, Training accuracy: 0.9852\n2020-09-19 21:01:07.020795\nValidation...\nValidation loss: 0.3636, Validation accuracy: 0.9010\n2020-09-19 21:01:07.962974\nEpoch 103:\nTraining loss: 0.0449, Training accuracy: 0.9855\n2020-09-19 21:01:20.004086\nValidation...\nValidation loss: 0.3561, Validation accuracy: 0.9084\n2020-09-19 21:01:20.868474\nEpoch 104:\nTraining loss: 0.0423, Training accuracy: 0.9865\n2020-09-19 21:01:32.828396\nValidation...\nValidation loss: 0.3694, Validation accuracy: 0.8998\n2020-09-19 21:01:33.738423\nEpoch 105:\nTraining loss: 0.0429, Training accuracy: 0.9857\n2020-09-19 21:01:45.779031\nValidation...\nValidation loss: 0.3597, Validation accuracy: 0.9008\n2020-09-19 21:01:46.639540\nEpoch 106:\nTraining loss: 0.0403, Training accuracy: 0.9875\n2020-09-19 21:01:58.538956\nValidation...\nValidation loss: 0.3848, Validation accuracy: 0.8982\n2020-09-19 21:01:59.418453\nEpoch 107:\nTraining loss: 0.0418, Training accuracy: 0.9865\n2020-09-19 21:02:11.402686\nValidation...\nValidation loss: 0.3498, Validation accuracy: 0.9018\n2020-09-19 21:02:12.274287\nEpoch 108:\nTraining loss: 0.0387, Training accuracy: 0.9880\n2020-09-19 21:02:24.359890\nValidation...\nValidation loss: 0.3624, Validation accuracy: 0.9046\n2020-09-19 21:02:25.221508\nEpoch 109:\nTraining loss: 0.0395, Training accuracy: 0.9874\n2020-09-19 21:02:37.127317\nValidation...\nValidation loss: 0.3727, Validation accuracy: 0.9016\n2020-09-19 21:02:38.014283\nEpoch 110:\nTraining loss: 0.0413, Training accuracy: 0.9868\n2020-09-19 21:02:49.977722\nValidation...\nValidation loss: 0.3556, Validation accuracy: 0.9016\n2020-09-19 21:02:50.836708\nEpoch 111:\nTraining loss: 0.0394, Training accuracy: 0.9871\n2020-09-19 21:03:03.018259\nValidation...\nValidation loss: 0.3725, Validation accuracy: 0.8984\n2020-09-19 21:03:03.900751\nEpoch 112:\nTraining loss: 0.0380, Training accuracy: 0.9879\n2020-09-19 21:03:15.899842\nValidation...\nValidation loss: 0.3524, Validation accuracy: 0.9042\n2020-09-19 21:03:16.782998\nEpoch 113:\nTraining loss: 0.0383, Training accuracy: 0.9878\n2020-09-19 21:03:28.841410\nValidation...\nValidation loss: 0.3687, Validation accuracy: 0.9042\n2020-09-19 21:03:29.723844\nEpoch 114:\nTraining loss: 0.0381, Training accuracy: 0.9885\n2020-09-19 21:03:41.736889\nValidation...\nValidation loss: 0.4074, Validation accuracy: 0.8958\n2020-09-19 21:03:42.605722\nEpoch 115:\nTraining loss: 0.0382, Training accuracy: 0.9874\n2020-09-19 21:03:54.480850\nValidation...\nValidation loss: 0.3665, Validation accuracy: 0.9000\n2020-09-19 21:03:55.412286\nEpoch 116:\nTraining loss: 0.0374, Training accuracy: 0.9880\n2020-09-19 21:04:07.484699\nValidation...\nValidation loss: 0.3759, Validation accuracy: 0.9010\n2020-09-19 21:04:08.335994\nEpoch 117:\nTraining loss: 0.0401, Training accuracy: 0.9869\n2020-09-19 21:04:20.390743\nValidation...\nValidation loss: 0.3833, Validation accuracy: 0.8992\n2020-09-19 21:04:21.258184\nEpoch 118:\nTraining loss: 0.0377, Training accuracy: 0.9878\n2020-09-19 21:04:33.178534\nValidation...\nValidation loss: 0.3733, Validation accuracy: 0.9036\n2020-09-19 21:04:34.049036\nEpoch 119:\nTraining loss: 0.0372, Training accuracy: 0.9883\n2020-09-19 21:04:46.010243\nValidation...\nValidation loss: 0.3748, Validation accuracy: 0.9006\n2020-09-19 21:04:46.903900\nEpoch 120:\nTraining loss: 0.0370, Training accuracy: 0.9879\n2020-09-19 21:04:59.161951\nValidation...\nValidation loss: 0.3590, Validation accuracy: 0.9006\n2020-09-19 21:05:00.026890\nEpoch 121:\nTraining loss: 0.0370, Training accuracy: 0.9886\n2020-09-19 21:05:11.817433\nValidation...\nValidation loss: 0.3877, Validation accuracy: 0.8972\n2020-09-19 21:05:12.707637\nEpoch 122:\nTraining loss: 0.0351, Training accuracy: 0.9895\n2020-09-19 21:05:24.899147\nValidation...\nValidation loss: 0.3738, Validation accuracy: 0.9052\n2020-09-19 21:05:25.801974\nEpoch 123:\nTraining loss: 0.0358, Training accuracy: 0.9884\n2020-09-19 21:05:38.034069\nValidation...\nValidation loss: 0.3828, Validation accuracy: 0.8980\n2020-09-19 21:05:38.798741\nEpoch 124:\nTraining loss: 0.0362, Training accuracy: 0.9887\n2020-09-19 21:05:50.932828\nValidation...\nValidation loss: 0.3755, Validation accuracy: 0.9014\n2020-09-19 21:05:51.807591\nEpoch 125:\nTraining loss: 0.0356, Training accuracy: 0.9887\n2020-09-19 21:06:03.815646\nValidation...\nValidation loss: 0.3747, Validation accuracy: 0.9010\n2020-09-19 21:06:04.677173\nEpoch 126:\nTraining loss: 0.0358, Training accuracy: 0.9889\n2020-09-19 21:06:17.093503\nValidation...\nValidation loss: 0.3598, Validation accuracy: 0.9066\n2020-09-19 21:06:17.831743\nEpoch 127:\nTraining loss: 0.0350, Training accuracy: 0.9890\n2020-09-19 21:06:29.961354\nValidation...\nValidation loss: 0.3690, Validation accuracy: 0.8984\n2020-09-19 21:06:30.855760\nEpoch 128:\nTraining loss: 0.0357, Training accuracy: 0.9885\n2020-09-19 21:06:43.037842\nValidation...\nValidation loss: 0.3904, Validation accuracy: 0.8978\n2020-09-19 21:06:43.925699\nEpoch 129:\nTraining loss: 0.0357, Training accuracy: 0.9887\n2020-09-19 21:06:55.838845\nValidation...\nValidation loss: 0.3616, Validation accuracy: 0.9026\n2020-09-19 21:06:56.742988\nEpoch 130:\nTraining loss: 0.0371, Training accuracy: 0.9885\n2020-09-19 21:07:08.981687\nValidation...\nValidation loss: 0.3728, Validation accuracy: 0.8990\n2020-09-19 21:07:09.841623\nEpoch 131:\nTraining loss: 0.0348, Training accuracy: 0.9894\n2020-09-19 21:07:21.799720\nValidation...\nValidation loss: 0.3539, Validation accuracy: 0.9084\n2020-09-19 21:07:22.695910\nEpoch 132:\nTraining loss: 0.0352, Training accuracy: 0.9892\n2020-09-19 21:07:34.752431\nValidation...\nValidation loss: 0.3537, Validation accuracy: 0.9068\n2020-09-19 21:07:35.671501\nEpoch 133:\nTraining loss: 0.0344, Training accuracy: 0.9886\n2020-09-19 21:07:47.789052\nValidation...\nValidation loss: 0.3686, Validation accuracy: 0.9028\n2020-09-19 21:07:48.629743\nEpoch 134:\nTraining loss: 0.0341, Training accuracy: 0.9889\n2020-09-19 21:08:00.692764\nValidation...\nValidation loss: 0.3909, Validation accuracy: 0.9016\n2020-09-19 21:08:01.555755\nEpoch 135:\nTraining loss: 0.0334, Training accuracy: 0.9897\n2020-09-19 21:08:13.526261\nValidation...\nValidation loss: 0.3593, Validation accuracy: 0.9054\n2020-09-19 21:08:14.401915\nEpoch 136:\nTraining loss: 0.0360, Training accuracy: 0.9891\n2020-09-19 21:08:26.747995\nValidation...\nValidation loss: 0.3742, Validation accuracy: 0.8982\n2020-09-19 21:08:27.681493\nEpoch 137:\nTraining loss: 0.0340, Training accuracy: 0.9898\n2020-09-19 21:08:39.687516\nValidation...\nValidation loss: 0.3869, Validation accuracy: 0.8960\n2020-09-19 21:08:40.560718\nEpoch 138:\nTraining loss: 0.0340, Training accuracy: 0.9897\n2020-09-19 21:08:52.424276\nValidation...\nValidation loss: 0.3742, Validation accuracy: 0.9018\n2020-09-19 21:08:53.275896\nEpoch 139:\nTraining loss: 0.0327, Training accuracy: 0.9901\n2020-09-19 21:09:05.327380\nValidation...\nValidation loss: 0.3715, Validation accuracy: 0.9050\n2020-09-19 21:09:06.227505\nEpoch 140:\nTraining loss: 0.0334, Training accuracy: 0.9894\n2020-09-19 21:09:18.330836\nValidation...\nValidation loss: 0.3961, Validation accuracy: 0.8996\n2020-09-19 21:09:19.159545\nEpoch 141:\nTraining loss: 0.0343, Training accuracy: 0.9891\n2020-09-19 21:09:31.157455\nValidation...\nValidation loss: 0.3662, Validation accuracy: 0.9006\n2020-09-19 21:09:32.024964\nEpoch 142:\nTraining loss: 0.0356, Training accuracy: 0.9891\n2020-09-19 21:09:44.170107\nValidation...\nValidation loss: 0.3802, Validation accuracy: 0.9016\n2020-09-19 21:09:45.080361\nEpoch 143:\nTraining loss: 0.0341, Training accuracy: 0.9896\n2020-09-19 21:09:57.434262\nValidation...\nValidation loss: 0.3794, Validation accuracy: 0.9046\n2020-09-19 21:09:58.319934\nEpoch 144:\nTraining loss: 0.0337, Training accuracy: 0.9899\n2020-09-19 21:10:10.301314\nValidation...\nValidation loss: 0.3703, Validation accuracy: 0.9044\n2020-09-19 21:10:11.134624\nEpoch 145:\nTraining loss: 0.0343, Training accuracy: 0.9895\n2020-09-19 21:10:23.255721\nValidation...\nValidation loss: 0.3617, Validation accuracy: 0.9048\n2020-09-19 21:10:24.124066\nEpoch 146:\nTraining loss: 0.0330, Training accuracy: 0.9900\n2020-09-19 21:10:36.132554\nValidation...\nValidation loss: 0.3588, Validation accuracy: 0.9044\n2020-09-19 21:10:37.028132\nEpoch 147:\nTraining loss: 0.0313, Training accuracy: 0.9903\n2020-09-19 21:10:49.288308\nValidation...\nValidation loss: 0.3700, Validation accuracy: 0.9024\n2020-09-19 21:10:50.190240\nEpoch 148:\nTraining loss: 0.0331, Training accuracy: 0.9893\n2020-09-19 21:11:02.199955\nValidation...\nValidation loss: 0.3843, Validation accuracy: 0.8990\n2020-09-19 21:11:03.025781\nEpoch 149:\nTraining loss: 0.0344, Training accuracy: 0.9890\n2020-09-19 21:11:15.317158\nValidation...\nValidation loss: 0.3891, Validation accuracy: 0.8984\n2020-09-19 21:11:16.191895\nEpoch 150:\nTraining loss: 0.0336, Training accuracy: 0.9894\n2020-09-19 21:11:28.004439\nValidation...\nValidation loss: 0.3777, Validation accuracy: 0.9046\nCurrent learning rate has decayed to 0.000100\n2020-09-19 21:11:28.877972\nEpoch 151:\nTraining loss: 0.0313, Training accuracy: 0.9906\n2020-09-19 21:11:40.855749\nValidation...\nValidation loss: 0.3797, Validation accuracy: 0.9026\n2020-09-19 21:11:41.734164\nEpoch 152:\nTraining loss: 0.0325, Training accuracy: 0.9903\n2020-09-19 21:11:54.089882\nValidation...\nValidation loss: 0.3620, Validation accuracy: 0.9072\n2020-09-19 21:11:54.933824\nEpoch 153:\nTraining loss: 0.0313, Training accuracy: 0.9905\n2020-09-19 21:12:06.744598\nValidation...\nValidation loss: 0.3721, Validation accuracy: 0.9028\n2020-09-19 21:12:07.604395\nEpoch 154:\nTraining loss: 0.0329, Training accuracy: 0.9906\n2020-09-19 21:12:19.697092\nValidation...\nValidation loss: 0.3723, Validation accuracy: 0.9006\n2020-09-19 21:12:20.613523\nEpoch 155:\nTraining loss: 0.0309, Training accuracy: 0.9910\n2020-09-19 21:12:32.889995\nValidation...\nValidation loss: 0.3748, Validation accuracy: 0.9060\n2020-09-19 21:12:33.728412\nEpoch 156:\nTraining loss: 0.0321, Training accuracy: 0.9902\n2020-09-19 21:12:45.672714\nValidation...\nValidation loss: 0.3841, Validation accuracy: 0.8998\n2020-09-19 21:12:46.514180\nEpoch 157:\nTraining loss: 0.0313, Training accuracy: 0.9906\n2020-09-19 21:12:58.748384\nValidation...\nValidation loss: 0.3666, Validation accuracy: 0.9026\n2020-09-19 21:12:59.659318\nEpoch 158:\nTraining loss: 0.0310, Training accuracy: 0.9907\n2020-09-19 21:13:11.752763\nValidation...\nValidation loss: 0.3704, Validation accuracy: 0.9028\n2020-09-19 21:13:12.630297\nEpoch 159:\nTraining loss: 0.0317, Training accuracy: 0.9908\n2020-09-19 21:13:24.842127\nValidation...\nValidation loss: 0.3666, Validation accuracy: 0.9050\n2020-09-19 21:13:25.754090\nEpoch 160:\nTraining loss: 0.0320, Training accuracy: 0.9903\n2020-09-19 21:13:37.917823\nValidation...\nValidation loss: 0.3699, Validation accuracy: 0.9026\n2020-09-19 21:13:38.834713\nEpoch 161:\nTraining loss: 0.0306, Training accuracy: 0.9916\n2020-09-19 21:13:51.053357\nValidation...\nValidation loss: 0.3736, Validation accuracy: 0.9050\n2020-09-19 21:13:51.937924\nEpoch 162:\nTraining loss: 0.0310, Training accuracy: 0.9914\n2020-09-19 21:14:03.803752\nValidation...\nValidation loss: 0.3794, Validation accuracy: 0.8974\n2020-09-19 21:14:04.680629\nEpoch 163:\nTraining loss: 0.0313, Training accuracy: 0.9900\n2020-09-19 21:14:16.708715\nValidation...\nValidation loss: 0.3824, Validation accuracy: 0.9022\n2020-09-19 21:14:17.557160\nEpoch 164:\nTraining loss: 0.0326, Training accuracy: 0.9897\n2020-09-19 21:14:29.673824\nValidation...\nValidation loss: 0.3753, Validation accuracy: 0.9008\n2020-09-19 21:14:30.405018\nEpoch 165:\nTraining loss: 0.0311, Training accuracy: 0.9906\n2020-09-19 21:14:42.485861\nValidation...\nValidation loss: 0.3643, Validation accuracy: 0.9066\n2020-09-19 21:14:43.371878\nEpoch 166:\nTraining loss: 0.0318, Training accuracy: 0.9899\n2020-09-19 21:14:55.418187\nValidation...\nValidation loss: 0.3729, Validation accuracy: 0.8996\n2020-09-19 21:14:56.251664\nEpoch 167:\nTraining loss: 0.0329, Training accuracy: 0.9896\n2020-09-19 21:15:08.439109\nValidation...\nValidation loss: 0.3929, Validation accuracy: 0.9034\n2020-09-19 21:15:09.262767\nEpoch 168:\nTraining loss: 0.0314, Training accuracy: 0.9907\n2020-09-19 21:15:21.368283\nValidation...\nValidation loss: 0.3816, Validation accuracy: 0.9016\n2020-09-19 21:15:22.224328\nEpoch 169:\nTraining loss: 0.0320, Training accuracy: 0.9901\n2020-09-19 21:15:34.216212\nValidation...\nValidation loss: 0.3667, Validation accuracy: 0.9074\n2020-09-19 21:15:35.089360\nEpoch 170:\nTraining loss: 0.0326, Training accuracy: 0.9902\n2020-09-19 21:15:47.262558\nValidation...\nValidation loss: 0.3749, Validation accuracy: 0.9034\n2020-09-19 21:15:48.117763\nEpoch 171:\nTraining loss: 0.0312, Training accuracy: 0.9907\n2020-09-19 21:16:00.123557\nValidation...\nValidation loss: 0.3690, Validation accuracy: 0.9036\n2020-09-19 21:16:00.970845\nEpoch 172:\nTraining loss: 0.0316, Training accuracy: 0.9905\n2020-09-19 21:16:12.951318\nValidation...\nValidation loss: 0.3807, Validation accuracy: 0.9046\n2020-09-19 21:16:13.790312\nEpoch 173:\nTraining loss: 0.0318, Training accuracy: 0.9904\n2020-09-19 21:16:25.732234\nValidation...\nValidation loss: 0.3811, Validation accuracy: 0.8992\n2020-09-19 21:16:26.553829\nEpoch 174:\nTraining loss: 0.0321, Training accuracy: 0.9904\n2020-09-19 21:16:38.884526\nValidation...\nValidation loss: 0.3867, Validation accuracy: 0.9000\n2020-09-19 21:16:39.756817\nEpoch 175:\nTraining loss: 0.0317, Training accuracy: 0.9904\n2020-09-19 21:16:51.731761\nValidation...\nValidation loss: 0.3766, Validation accuracy: 0.9034\n2020-09-19 21:16:52.558864\nEpoch 176:\nTraining loss: 0.0322, Training accuracy: 0.9902\n2020-09-19 21:17:03.206791\nValidation...\nValidation loss: 0.3557, Validation accuracy: 0.9070\n2020-09-19 21:17:03.988724\nEpoch 177:\nTraining loss: 0.0322, Training accuracy: 0.9903\n2020-09-19 21:17:16.751969\nValidation...\nValidation loss: 0.3855, Validation accuracy: 0.9026\n2020-09-19 21:17:17.645779\nEpoch 178:\nTraining loss: 0.0319, Training accuracy: 0.9901\n2020-09-19 21:17:29.980597\nValidation...\nValidation loss: 0.3861, Validation accuracy: 0.9004\n2020-09-19 21:17:30.875731\nEpoch 179:\nTraining loss: 0.0311, Training accuracy: 0.9900\n2020-09-19 21:17:43.645962\nValidation...\nValidation loss: 0.3820, Validation accuracy: 0.9012\n2020-09-19 21:17:44.550499\nEpoch 180:\nTraining loss: 0.0319, Training accuracy: 0.9901\n2020-09-19 21:17:56.480038\nValidation...\nValidation loss: 0.3801, Validation accuracy: 0.8990\n2020-09-19 21:17:57.342667\nEpoch 181:\nTraining loss: 0.0305, Training accuracy: 0.9913\n2020-09-19 21:18:09.201139\nValidation...\nValidation loss: 0.3864, Validation accuracy: 0.9034\n2020-09-19 21:18:10.062516\nEpoch 182:\nTraining loss: 0.0324, Training accuracy: 0.9897\n2020-09-19 21:18:22.089699\nValidation...\nValidation loss: 0.3760, Validation accuracy: 0.9014\n2020-09-19 21:18:22.973851\nEpoch 183:\nTraining loss: 0.0325, Training accuracy: 0.9899\n2020-09-19 21:18:35.056411\nValidation...\nValidation loss: 0.3700, Validation accuracy: 0.9034\n2020-09-19 21:18:35.900958\nEpoch 184:\nTraining loss: 0.0308, Training accuracy: 0.9910\n2020-09-19 21:18:47.741990\nValidation...\nValidation loss: 0.3929, Validation accuracy: 0.9000\n2020-09-19 21:18:48.648105\nEpoch 185:\nTraining loss: 0.0316, Training accuracy: 0.9907\n2020-09-19 21:19:00.718296\nValidation...\nValidation loss: 0.3738, Validation accuracy: 0.9040\n2020-09-19 21:19:01.595269\nEpoch 186:\nTraining loss: 0.0322, Training accuracy: 0.9905\n2020-09-19 21:19:13.588445\nValidation...\nValidation loss: 0.3872, Validation accuracy: 0.9036\n2020-09-19 21:19:14.453423\nEpoch 187:\nTraining loss: 0.0304, Training accuracy: 0.9909\n2020-09-19 21:19:26.409999\nValidation...\nValidation loss: 0.3539, Validation accuracy: 0.9070\n2020-09-19 21:19:27.284792\nEpoch 188:\nTraining loss: 0.0303, Training accuracy: 0.9915\n2020-09-19 21:19:39.389354\nValidation...\nValidation loss: 0.3731, Validation accuracy: 0.9050\n2020-09-19 21:19:40.264161\nEpoch 189:\nTraining loss: 0.0319, Training accuracy: 0.9902\n2020-09-19 21:19:52.385491\nValidation...\nValidation loss: 0.3687, Validation accuracy: 0.9024\n2020-09-19 21:19:53.253647\nEpoch 190:\nTraining loss: 0.0319, Training accuracy: 0.9907\n2020-09-19 21:20:05.183417\nValidation...\nValidation loss: 0.3660, Validation accuracy: 0.9044\n2020-09-19 21:20:06.115182\nEpoch 191:\nTraining loss: 0.0311, Training accuracy: 0.9903\n2020-09-19 21:20:18.102278\nValidation...\nValidation loss: 0.3853, Validation accuracy: 0.9016\n2020-09-19 21:20:18.968086\nEpoch 192:\nTraining loss: 0.0302, Training accuracy: 0.9911\n2020-09-19 21:20:31.034839\nValidation...\nValidation loss: 0.3874, Validation accuracy: 0.9020\n2020-09-19 21:20:31.874815\nEpoch 193:\nTraining loss: 0.0307, Training accuracy: 0.9909\n2020-09-19 21:20:43.772960\nValidation...\nValidation loss: 0.3925, Validation accuracy: 0.8992\n2020-09-19 21:20:44.651344\nEpoch 194:\nTraining loss: 0.0302, Training accuracy: 0.9912\n2020-09-19 21:20:56.665149\nValidation...\nValidation loss: 0.3657, Validation accuracy: 0.9050\n2020-09-19 21:20:57.533866\nEpoch 195:\nTraining loss: 0.0323, Training accuracy: 0.9893\n2020-09-19 21:21:09.699263\nValidation...\nValidation loss: 0.3777, Validation accuracy: 0.9036\n2020-09-19 21:21:10.545508\nEpoch 196:\nTraining loss: 0.0310, Training accuracy: 0.9906\n2020-09-19 21:21:22.605329\nValidation...\nValidation loss: 0.3855, Validation accuracy: 0.9024\n2020-09-19 21:21:23.467314\nEpoch 197:\nTraining loss: 0.0319, Training accuracy: 0.9905\n2020-09-19 21:21:35.851580\nValidation...\nValidation loss: 0.3807, Validation accuracy: 0.9038\n2020-09-19 21:21:36.707920\nEpoch 198:\nTraining loss: 0.0323, Training accuracy: 0.9905\n2020-09-19 21:21:48.735287\nValidation...\nValidation loss: 0.3648, Validation accuracy: 0.9040\n2020-09-19 21:21:49.617699\nEpoch 199:\nTraining loss: 0.0314, Training accuracy: 0.9906\n2020-09-19 21:22:01.883838\nValidation...\nValidation loss: 0.3692, Validation accuracy: 0.9018\nOptimization finished.\nbest val 0.9114\n"
    }
   ],
   "source": [
    "# Start the training/validation process\n",
    "# The process should take about 5 minutes on a GTX 1070-Ti\n",
    "# if the code is written efficiently.\n",
    "global_step = 0\n",
    "best_val_acc = 0\n",
    "\n",
    "for i in range(start_epoch, EPOCHS):\n",
    "    print(datetime.datetime.now())\n",
    "    # Switch to train mode\n",
    "    net.train()\n",
    "    print(\"Epoch %d:\" %i)\n",
    "\n",
    "    total_examples = 0\n",
    "    correct_examples = 0\n",
    "\n",
    "    train_loss = 0\n",
    "    train_acc = 0\n",
    "    \n",
    "    # Train the training dataset for 1 epoch.\n",
    "    for batch_idx, (inputs, targets) in enumerate(trainloader):\n",
    "        # Copy inputs to device\n",
    "        inputs = inputs.to(device)\n",
    "        targets = targets.to(device)\n",
    "        # Zero the gradient\n",
    "        optimizer.zero_grad()\n",
    "        # Generate output\n",
    "        outputs = net(inputs)\n",
    "\n",
    "        loss = criterion(outputs, targets)\n",
    "#         if i==0:\n",
    "#             print('initial loss: ',loss)\n",
    "        # Now backward loss\n",
    "        loss.backward()\n",
    "        # Apply gradient\n",
    "        optimizer.step()\n",
    "        # Calculate predicted labels\n",
    "        _, predicted = outputs.max(1)\n",
    "        total_examples += predicted.size(0)\n",
    "        correct_examples += predicted.eq(targets).sum().item()\n",
    "        train_loss += loss\n",
    "        global_step += 1\n",
    "                \n",
    "    avg_loss = train_loss / (batch_idx + 1)\n",
    "    avg_acc = correct_examples / total_examples\n",
    "    print(\"Training loss: %.4f, Training accuracy: %.4f\" %(avg_loss, avg_acc))\n",
    "    print(datetime.datetime.now())\n",
    "    # Validate on the validation dataset\n",
    "    print(\"Validation...\")\n",
    "    total_examples = 0\n",
    "    correct_examples = 0\n",
    "    \n",
    "    net.eval()\n",
    "\n",
    "    val_loss = 0\n",
    "    val_acc = 0\n",
    "    # Disable gradient during validation\n",
    "    with torch.no_grad():\n",
    "        for batch_idx, (inputs, targets) in enumerate(valloader):\n",
    "            # Copy inputs to device\n",
    "            inputs = inputs.to(device)\n",
    "            targets = targets.to(device)\n",
    "            # Zero the gradient\n",
    "            optimizer.zero_grad()\n",
    "            # Generate output from the DNN.\n",
    "            outputs = net(inputs)\n",
    "            loss = criterion(outputs, targets)            \n",
    "            # Calculate predicted labels\n",
    "            _, predicted = outputs.max(1)\n",
    "            total_examples += predicted.size(0)\n",
    "            correct_examples += predicted.eq(targets).sum().item()\n",
    "            val_loss += loss\n",
    "\n",
    "    avg_loss = val_loss / len(valloader)\n",
    "    avg_acc = correct_examples / total_examples\n",
    "    \n",
    "    print(\"Validation loss: %.4f, Validation accuracy: %.4f\" % (avg_loss, avg_acc))\n",
    "\n",
    "    # Handle the learning rate scheduler.\n",
    "    if i % DECAY_EPOCHS == 0 and i != 0:\n",
    "        current_learning_rate = current_learning_rate * DECAY\n",
    "        for param_group in optimizer.param_groups:\n",
    "            param_group['lr'] = current_learning_rate\n",
    "        print(\"Current learning rate has decayed to %f\" %current_learning_rate)\n",
    "    \n",
    "    # Save for checkpoint\n",
    "    if avg_acc > best_val_acc:\n",
    "        best_val_acc = avg_acc\n",
    "        if not os.path.exists(CHECKPOINT_PATH):\n",
    "            os.makedirs(CHECKPOINT_PATH)\n",
    "        print(\"Saving ...\")\n",
    "        state = {'net': net.state_dict(),\n",
    "                 'epoch': i,\n",
    "                 'lr': current_learning_rate}\n",
    "        torch.save(state, os.path.join(CHECKPOINT_PATH, 'model.h5'))\n",
    "\n",
    "print(\"Optimization finished.\")\n",
    "print(\"best val\",best_val_acc)"
   ]
  },
  {
   "cell_type": "code",
   "execution_count": null,
   "metadata": {},
   "outputs": [],
   "source": []
  }
 ],
 "metadata": {
  "kernelspec": {
   "display_name": "Python 3",
   "language": "python",
   "name": "python3"
  },
  "language_info": {
   "codemirror_mode": {
    "name": "ipython",
    "version": 3
   },
   "file_extension": ".py",
   "mimetype": "text/x-python",
   "name": "python",
   "nbconvert_exporter": "python",
   "pygments_lexer": "ipython3",
   "version": "2.7.12-final"
  },
  "varInspector": {
   "cols": {
    "lenName": 16,
    "lenType": 16,
    "lenVar": 40
   },
   "kernels_config": {
    "python": {
     "delete_cmd_postfix": "",
     "delete_cmd_prefix": "del ",
     "library": "var_list.py",
     "varRefreshCmd": "print(var_dic_list())"
    },
    "r": {
     "delete_cmd_postfix": ") ",
     "delete_cmd_prefix": "rm(",
     "library": "var_list.r",
     "varRefreshCmd": "cat(var_dic_list()) "
    }
   },
   "types_to_exclude": [
    "module",
    "function",
    "builtin_function_or_method",
    "instance",
    "_Feature"
   ],
   "window_display": false
  }
 },
 "nbformat": 4,
 "nbformat_minor": 2
}