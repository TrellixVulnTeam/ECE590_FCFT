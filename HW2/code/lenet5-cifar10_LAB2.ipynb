{
 "cells": [
  {
   "cell_type": "markdown",
   "metadata": {},
   "source": [
    "# Training LeNet-5 on CIFAR-10\n",
    "In this notebook, we will try to deploy the famous LeNet-5 to solve a simple image classification task, the CIFAR-10. CIFAR-10 is composed of 60K images from 10 categories. After splitting the dataset, we have 45K/5K/10K images for train/valiation/test dataset.\n",
    "In this notebook, only the labels of training/validation dataset is visible to you, so you can use the training and validation data to tune your model. After you submitted your model, your final grade will be determined on the model performance on the holdout test dataset."
   ]
  },
  {
   "cell_type": "markdown",
   "metadata": {},
   "source": [
    "### Step 0 Setting up LeNet-5 model\n",
    "As you have set up the LeNet-5 model in Homework 1, we will just move the implementation of LeNet-5 model here, so you can use it for this homework."
   ]
  },
  {
   "cell_type": "code",
   "execution_count": 1,
   "metadata": {
    "ExecuteTime": {
     "end_time": "2020-09-15T04:46:22.231275Z",
     "start_time": "2020-09-15T04:46:19.511325Z"
    }
   },
   "outputs": [],
   "source": [
    "import argparse\n",
    "import os, sys\n",
    "import time\n",
    "import datetime\n",
    "\n",
    "# Import pytorch dependencies\n",
    "import torch\n",
    "import torch.nn as nn\n",
    "import torch.nn.functional as F\n",
    "import torchvision\n",
    "import torchvision.transforms as transforms\n",
    "import torch.optim as optim\n",
    "from tqdm import tqdm_notebook as tqdm"
   ]
  },
  {
   "cell_type": "code",
   "execution_count": 2,
   "metadata": {
    "ExecuteTime": {
     "end_time": "2020-09-15T04:46:22.248192Z",
     "start_time": "2020-09-15T04:46:22.233794Z"
    }
   },
   "outputs": [],
   "source": [
    "import math\n",
    "\n",
    "def swish(x):\n",
    "    return x * torch.sigmoid(x)\n",
    "# Create the neural network module: LeNet-5\n",
    "class LeNet5(nn.Module):\n",
    "    def __init__(self):\n",
    "        super(LeNet5, self).__init__()\n",
    "        self.conv1 = nn.Conv2d(3, 6, 5)\n",
    "        self.norm1 = nn.BatchNorm2d(6)\n",
    "        self.conv2 = nn.Conv2d(6, 16, 5)\n",
    "        self.norm2 = nn.BatchNorm2d(16)\n",
    "        self.fc1   = nn.Linear(16*5*5, 120)\n",
    "        self.norm3 = nn.BatchNorm1d(120)\n",
    "        self.fc2   = nn.Linear(120, 84)\n",
    "        self.norm4 = nn.BatchNorm1d(84)\n",
    "        self.fc3   = nn.Linear(84, 10)\n",
    "        \n",
    "        # self._initialize_weights()\n",
    "\n",
    "    def forward(self, x):\n",
    "        out = swish(self.conv1(x))\n",
    "        out = self.norm1(out)\n",
    "        out = F.max_pool2d(out, 2)\n",
    "        out = swish(self.conv2(out))\n",
    "        out = self.norm2(out)\n",
    "        out = F.max_pool2d(out, 2)\n",
    "        out = out.view(out.size(0), -1)\n",
    "        out = swish(self.fc1(out))\n",
    "        out = self.norm3(out)\n",
    "        out = swish(self.fc2(out))\n",
    "        out = self.norm4(out)\n",
    "        out = self.fc3(out)\n",
    "        return out\n",
    "\n",
    "    \"\"\"\n",
    "    def _initialize_weights(self):\n",
    "        for m in self.modules():\n",
    "            if isinstance(m, nn.Conv2d):\n",
    "                n = m.kernel_size[0] * m.kernel_size[1] * (m.in_channels + m.out_channels)\n",
    "                m.weight.data.normal_(0, math.sqrt(2. / n))\n",
    "                if m.bias is not None:\n",
    "                    m.bias.data.zero_()\n",
    "            elif isinstance(m, nn.BatchNorm2d):\n",
    "                m.weight.data.fill_(1)\n",
    "                m.bias.data.zero_()\n",
    "            elif isinstance(m, nn.Linear):\n",
    "                n = m.weight.size(1)\n",
    "                m.weight.data.normal_(0, 0.01)\n",
    "                m.bias.data.zero_() \"\"\""
   ]
  },
  {
   "cell_type": "markdown",
   "metadata": {},
   "source": [
    "### Step 1: Setting up preprocessing functions.\n",
    "Preprocessing is very important because it prepares your data for proceeding training steps.\n",
    "Write functions to load dataset and preprocess the incoming data. We recommend that the preprocess scheme \\textbf{must} include normalize, standardization, batch shuffling to make sure the training \n",
    "process goes smoothly. The preprocess scheme may also contain some data augmentation methods \n",
    "(e.g., random crop, random flip, etc.). \n",
    "\n",
    "Reference value for mean/std:\n",
    "\n",
    "**mean(RGB-format): (0.4914, 0.4822, 0.4465)**\n",
    "\n",
    "**std(RGB-format): (0.2023, 0.1994, 0.2010)**"
   ]
  },
  {
   "cell_type": "code",
   "execution_count": 3,
   "metadata": {
    "ExecuteTime": {
     "end_time": "2020-09-15T04:46:22.266974Z",
     "start_time": "2020-09-15T04:46:22.257233Z"
    }
   },
   "outputs": [],
   "source": [
    "# Specify preprocessing function.\n",
    "# Reference mean/std value for \n",
    "transform_train  = transforms.Compose([\n",
    "        transforms.RandomHorizontalFlip(),\n",
    "        transforms.RandomCrop(size=[32,32], padding=4),\n",
    "        transforms.ToTensor(),\n",
    "        transforms.Normalize((0.4914, 0.4822, 0.4465), (0.2023, 0.1994, 0.2010)),\n",
    "    ])\n",
    "\n",
    "transform_val = transforms.Compose([\n",
    "        transforms.RandomHorizontalFlip(),\n",
    "        transforms.RandomCrop(size=[32,32], padding=4),\n",
    "        transforms.ToTensor(),\n",
    "        transforms.Normalize((0.4914, 0.4822, 0.4465), (0.2023, 0.1994, 0.2010)),\n",
    "    ])\n",
    "\n"
   ]
  },
  {
   "cell_type": "markdown",
   "metadata": {},
   "source": [
    "### Step 2: Setting up data I/O\n",
    "Data I/O reads data from the dataset and prepares it for further procedures. Note that you have to link transformation with data I/O so that these operations can be interleaved. Thus, the training process can be more efficient."
   ]
  },
  {
   "cell_type": "code",
   "execution_count": 4,
   "metadata": {
    "ExecuteTime": {
     "end_time": "2020-09-15T04:46:26.844376Z",
     "start_time": "2020-09-15T04:46:22.274174Z"
    }
   },
   "outputs": [
    {
     "name": "stdout",
     "output_type": "stream",
     "text": [
      "Using downloaded and verified file: ./data/cifar10_trainval_F20.zip\n",
      "Extracting ./data/cifar10_trainval_F20.zip to ./data\n",
      "Files already downloaded and verified\n",
      "Training dataset has 45000 examples!\n",
      "Using downloaded and verified file: ./data/cifar10_trainval_F20.zip\n",
      "Extracting ./data/cifar10_trainval_F20.zip to ./data\n",
      "Files already downloaded and verified\n",
      "Validation dataset has 5000 examples!\n"
     ]
    }
   ],
   "source": [
    "# You cannot change this line.\n",
    "from tools.dataloader import CIFAR10\n",
    "# Call the dataset Loader\n",
    "DATAROOT = \"./data\"\n",
    "TRAIN_BATCH_SIZE = 128\n",
    "VAL_BATCH_SIZE = 100\n",
    "trainset = CIFAR10(root=DATAROOT, train=True, download=True, transform=transform_train)\n",
    "trainloader = torch.utils.data.DataLoader(trainset, batch_size=TRAIN_BATCH_SIZE, shuffle=True, num_workers=4)\n",
    "valset = CIFAR10(root=DATAROOT, train=False, download=True, transform=transform_val)\n",
    "valloader = torch.utils.data.DataLoader(valset, batch_size=VAL_BATCH_SIZE, shuffle=False, num_workers=4)"
   ]
  },
  {
   "cell_type": "markdown",
   "metadata": {},
   "source": [
    "### Step 3: Instantialize your LeNet-5 model and deploy it to GPU devices.\n",
    "You may want to deploy your model to GPU device for efficient training. Please assign your model to GPU if possible. If you are training on a machine without GPUs, please deploy your model to CPUs."
   ]
  },
  {
   "cell_type": "code",
   "execution_count": 5,
   "metadata": {
    "ExecuteTime": {
     "end_time": "2020-09-15T04:46:26.861182Z",
     "start_time": "2020-09-15T04:46:26.846976Z"
    }
   },
   "outputs": [
    {
     "name": "stdout",
     "output_type": "stream",
     "text": [
      "Train on CPU...\n"
     ]
    }
   ],
   "source": [
    "# Specify the device for computation\n",
    "device = 'cuda' if torch.cuda.is_available() else 'cpu'\n",
    "net = LeNet5()\n",
    "net = net.to(device)\n",
    "if device =='cuda':\n",
    "    print(\"Train on GPU...\")\n",
    "else:\n",
    "    print(\"Train on CPU...\")"
   ]
  },
  {
   "cell_type": "markdown",
   "metadata": {},
   "source": [
    "### Hyperparameter settings\n",
    "Hyperparameters are quite crucial in determining the performance of our model. The default hyperparameter settings are sufficient for a decent result. You may tune them wisely and carefully for better results."
   ]
  },
  {
   "cell_type": "code",
   "execution_count": 6,
   "metadata": {
    "ExecuteTime": {
     "end_time": "2020-09-15T04:46:26.880428Z",
     "start_time": "2020-09-15T04:46:26.866960Z"
    }
   },
   "outputs": [],
   "source": [
    "# Initial learning rate\n",
    "INITIAL_LR = 0.01\n",
    "# Momentum for optimizer.\n",
    "MOMENTUM = 0.9\n",
    "# Regularization\n",
    "REG = 1e-4\n",
    "# Total number of training epochs\n",
    "EPOCHS = 30\n",
    "# Learning rate decay policy.\n",
    "DECAY_EPOCHS = 2\n",
    "DECAY = 1.00"
   ]
  },
  {
   "cell_type": "markdown",
   "metadata": {},
   "source": [
    "### Handling weights load/save protocols.\n",
    "This handles the weight loading/saving protocols.You may be able to load from checkpoints."
   ]
  },
  {
   "cell_type": "code",
   "execution_count": 7,
   "metadata": {
    "ExecuteTime": {
     "end_time": "2020-09-15T04:46:26.907164Z",
     "start_time": "2020-09-15T04:46:26.886013Z"
    }
   },
   "outputs": [
    {
     "name": "stdout",
     "output_type": "stream",
     "text": [
      "Training from scratch ...\n",
      "Starting from learning rate 0.010000:\n"
     ]
    }
   ],
   "source": [
    "CHECKPOINT_PATH = \"./saved_model\"\n",
    "# FLAG for loading the pretrained model\n",
    "TRAIN_FROM_SCRATCH = True\n",
    "# Code for loading checkpoint and recover epoch id.\n",
    "CKPT_PATH = \"./saved_model/model.h5\"\n",
    "def get_checkpoint(ckpt_path):\n",
    "    try:\n",
    "        ckpt = torch.load(ckpt_path)\n",
    "    except Exception as e:\n",
    "        print(e)\n",
    "        return None\n",
    "    return ckpt\n",
    "\n",
    "ckpt = get_checkpoint(CKPT_PATH)\n",
    "if ckpt is None or TRAIN_FROM_SCRATCH:\n",
    "    if not TRAIN_FROM_SCRATCH:\n",
    "        print(\"Checkpoint not found.\")\n",
    "    print(\"Training from scratch ...\")\n",
    "    start_epoch = 0\n",
    "    current_learning_rate = INITIAL_LR\n",
    "else:\n",
    "    print(\"Successfully loaded checkpoint: %s\" %CKPT_PATH)\n",
    "    net.load_state_dict(ckpt['net'])\n",
    "    start_epoch = ckpt['epoch'] + 1\n",
    "    current_learning_rate = ckpt['lr']\n",
    "    print(\"Starting from epoch %d \" %start_epoch)\n",
    "\n",
    "print(\"Starting from learning rate %f:\" %current_learning_rate)"
   ]
  },
  {
   "cell_type": "markdown",
   "metadata": {},
   "source": [
    "### Step 4 Setting up loss functions and Optimizers\n",
    "Loss function is your objective to train the neural networks. Typically, we use multi-class cross entropy as objectives for classification models (e.g., CIFAR-10, MNIST). In this homework, we use SGD optimizer with momentum as our optimizer. You need to formulate the cross-entropy loss function in PyTorch.\n",
    "You should also specify a PyTorch Optimizer to optimize this loss function."
   ]
  },
  {
   "cell_type": "code",
   "execution_count": 8,
   "metadata": {
    "ExecuteTime": {
     "end_time": "2020-09-15T04:46:26.921607Z",
     "start_time": "2020-09-15T04:46:26.914158Z"
    }
   },
   "outputs": [],
   "source": [
    "# Create loss function and specify regularization\n",
    "criterion = nn.CrossEntropyLoss()\n",
    "# Add optimizer\n",
    "optimizer = optim.SGD(params=net.parameters(), lr=current_learning_rate, momentum=MOMENTUM, weight_decay=REG, nesterov=False)"
   ]
  },
  {
   "cell_type": "markdown",
   "metadata": {},
   "source": [
    "### Step 5: Start the training process.\n",
    "Congratulations! You have completed all of the previous steps and it is time to train our neural network.\n",
    "Training a neural network usually composes the following 3 parts: \n",
    "\n",
    "**i) Get a batch of data from the dataloader and copy it to your device (GPU)**\n",
    "\n",
    "**ii) Do a forward pass to get the output logits from the neural network. Compute the forward loss.**\n",
    "\n",
    "**iii) Do a backward pass (back-propagation) to compute gradients of all weights with respect to the loss.**\n",
    "\n",
    "You will also need to compute accuracy within all these parts to justify that your model is doing well on the dataset.\n"
   ]
  },
  {
   "cell_type": "code",
   "execution_count": 9,
   "metadata": {
    "ExecuteTime": {
     "end_time": "2020-09-15T05:00:07.585362Z",
     "start_time": "2020-09-15T04:46:26.927623Z"
    },
    "scrolled": false
   },
   "outputs": [
    {
     "name": "stdout",
     "output_type": "stream",
     "text": [
      "2020-09-15 00:46:26.946817\n",
      "Epoch 0:\n",
      "Training loss: 1.6128, Training accuracy: 0.4079\n",
      "2020-09-15 00:46:52.845373\n",
      "Validation...\n",
      "Validation loss: 1.4536, Validation accuracy: 0.4708\n",
      "Saving ...\n",
      "2020-09-15 00:46:53.995485\n",
      "Epoch 1:\n",
      "Training loss: 1.3602, Training accuracy: 0.5060\n",
      "2020-09-15 00:47:18.677145\n",
      "Validation...\n",
      "Validation loss: 1.3107, Validation accuracy: 0.5350\n",
      "Saving ...\n",
      "2020-09-15 00:47:19.767174\n",
      "Epoch 2:\n",
      "Training loss: 1.2690, Training accuracy: 0.5433\n",
      "2020-09-15 00:47:44.546347\n",
      "Validation...\n",
      "Validation loss: 1.2058, Validation accuracy: 0.5640\n",
      "Current learning rate has decayed to 0.010000\n",
      "Saving ...\n",
      "2020-09-15 00:47:45.709181\n",
      "Epoch 3:\n",
      "Training loss: 1.2015, Training accuracy: 0.5682\n",
      "2020-09-15 00:48:10.567882\n",
      "Validation...\n",
      "Validation loss: 1.1852, Validation accuracy: 0.5800\n",
      "Saving ...\n",
      "2020-09-15 00:48:11.661363\n",
      "Epoch 4:\n",
      "Training loss: 1.1462, Training accuracy: 0.5934\n",
      "2020-09-15 00:48:37.532174\n",
      "Validation...\n",
      "Validation loss: 1.1777, Validation accuracy: 0.5842\n",
      "Current learning rate has decayed to 0.010000\n",
      "Saving ...\n",
      "2020-09-15 00:48:38.774986\n",
      "Epoch 5:\n",
      "Training loss: 1.1176, Training accuracy: 0.6018\n",
      "2020-09-15 00:49:04.446729\n",
      "Validation...\n",
      "Validation loss: 1.1481, Validation accuracy: 0.6004\n",
      "Saving ...\n",
      "2020-09-15 00:49:05.525449\n",
      "Epoch 6:\n",
      "Training loss: 1.0827, Training accuracy: 0.6166\n",
      "2020-09-15 00:49:33.589174\n",
      "Validation...\n",
      "Validation loss: 1.0766, Validation accuracy: 0.6208\n",
      "Current learning rate has decayed to 0.010000\n",
      "Saving ...\n",
      "2020-09-15 00:49:35.004245\n",
      "Epoch 7:\n",
      "Training loss: 1.0567, Training accuracy: 0.6218\n",
      "2020-09-15 00:50:04.676009\n",
      "Validation...\n",
      "Validation loss: 1.0526, Validation accuracy: 0.6218\n",
      "Saving ...\n",
      "2020-09-15 00:50:05.751031\n",
      "Epoch 8:\n",
      "Training loss: 1.0357, Training accuracy: 0.6326\n",
      "2020-09-15 00:50:35.860039\n",
      "Validation...\n",
      "Validation loss: 1.0341, Validation accuracy: 0.6334\n",
      "Current learning rate has decayed to 0.010000\n",
      "Saving ...\n",
      "2020-09-15 00:50:36.959769\n",
      "Epoch 9:\n",
      "Training loss: 1.0117, Training accuracy: 0.6405\n",
      "2020-09-15 00:51:09.127007\n",
      "Validation...\n",
      "Validation loss: 1.0112, Validation accuracy: 0.6476\n",
      "Saving ...\n",
      "2020-09-15 00:51:10.493373\n",
      "Epoch 10:\n",
      "Training loss: 0.9915, Training accuracy: 0.6469\n",
      "2020-09-15 00:51:42.512842\n",
      "Validation...\n",
      "Validation loss: 0.9914, Validation accuracy: 0.6470\n",
      "Current learning rate has decayed to 0.010000\n",
      "2020-09-15 00:51:44.278522\n",
      "Epoch 11:\n",
      "Training loss: 0.9754, Training accuracy: 0.6534\n",
      "2020-09-15 00:52:11.349832\n",
      "Validation...\n",
      "Validation loss: 0.9704, Validation accuracy: 0.6632\n",
      "Saving ...\n",
      "2020-09-15 00:52:12.656255\n",
      "Epoch 12:\n",
      "Training loss: 0.9654, Training accuracy: 0.6592\n",
      "2020-09-15 00:52:43.761503\n",
      "Validation...\n",
      "Validation loss: 0.9645, Validation accuracy: 0.6610\n",
      "Current learning rate has decayed to 0.010000\n",
      "2020-09-15 00:52:45.072787\n",
      "Epoch 13:\n",
      "Training loss: 0.9487, Training accuracy: 0.6627\n",
      "2020-09-15 00:53:12.801418\n",
      "Validation...\n",
      "Validation loss: 0.9824, Validation accuracy: 0.6434\n",
      "2020-09-15 00:53:13.953132\n",
      "Epoch 14:\n",
      "Training loss: 0.9431, Training accuracy: 0.6656\n",
      "2020-09-15 00:53:39.160221\n",
      "Validation...\n",
      "Validation loss: 0.9457, Validation accuracy: 0.6664\n",
      "Current learning rate has decayed to 0.010000\n",
      "Saving ...\n",
      "2020-09-15 00:53:40.248131\n",
      "Epoch 15:\n",
      "Training loss: 0.9281, Training accuracy: 0.6746\n",
      "2020-09-15 00:54:05.157076\n",
      "Validation...\n",
      "Validation loss: 0.9280, Validation accuracy: 0.6716\n",
      "Saving ...\n",
      "2020-09-15 00:54:06.305592\n",
      "Epoch 16:\n",
      "Training loss: 0.9233, Training accuracy: 0.6728\n",
      "2020-09-15 00:54:30.976766\n",
      "Validation...\n",
      "Validation loss: 0.9337, Validation accuracy: 0.6746\n",
      "Current learning rate has decayed to 0.010000\n",
      "Saving ...\n",
      "2020-09-15 00:54:32.068977\n",
      "Epoch 17:\n",
      "Training loss: 0.9146, Training accuracy: 0.6759\n",
      "2020-09-15 00:54:56.664071\n",
      "Validation...\n",
      "Validation loss: 0.9488, Validation accuracy: 0.6680\n",
      "2020-09-15 00:54:57.727063\n",
      "Epoch 18:\n",
      "Training loss: 0.9047, Training accuracy: 0.6796\n",
      "2020-09-15 00:55:22.470642\n",
      "Validation...\n",
      "Validation loss: 0.9473, Validation accuracy: 0.6710\n",
      "Current learning rate has decayed to 0.010000\n",
      "2020-09-15 00:55:23.540562\n",
      "Epoch 19:\n",
      "Training loss: 0.8954, Training accuracy: 0.6823\n",
      "2020-09-15 00:55:48.195302\n",
      "Validation...\n",
      "Validation loss: 0.9211, Validation accuracy: 0.6818\n",
      "Saving ...\n",
      "2020-09-15 00:55:49.259565\n",
      "Epoch 20:\n",
      "Training loss: 0.8892, Training accuracy: 0.6833\n",
      "2020-09-15 00:56:13.740150\n",
      "Validation...\n",
      "Validation loss: 0.9446, Validation accuracy: 0.6680\n",
      "Current learning rate has decayed to 0.010000\n",
      "2020-09-15 00:56:14.811469\n",
      "Epoch 21:\n",
      "Training loss: 0.8835, Training accuracy: 0.6894\n",
      "2020-09-15 00:56:39.560194\n",
      "Validation...\n",
      "Validation loss: 0.9119, Validation accuracy: 0.6816\n",
      "2020-09-15 00:56:40.626962\n",
      "Epoch 22:\n",
      "Training loss: 0.8763, Training accuracy: 0.6904\n",
      "2020-09-15 00:57:05.333700\n",
      "Validation...\n",
      "Validation loss: 0.9030, Validation accuracy: 0.6842\n",
      "Current learning rate has decayed to 0.010000\n",
      "Saving ...\n",
      "2020-09-15 00:57:06.407397\n",
      "Epoch 23:\n",
      "Training loss: 0.8720, Training accuracy: 0.6919\n",
      "2020-09-15 00:57:31.328727\n",
      "Validation...\n",
      "Validation loss: 0.9209, Validation accuracy: 0.6798\n",
      "2020-09-15 00:57:32.401944\n",
      "Epoch 24:\n",
      "Training loss: 0.8642, Training accuracy: 0.6960\n",
      "2020-09-15 00:57:57.170112\n",
      "Validation...\n",
      "Validation loss: 0.9096, Validation accuracy: 0.6780\n",
      "Current learning rate has decayed to 0.010000\n",
      "2020-09-15 00:57:58.261956\n",
      "Epoch 25:\n",
      "Training loss: 0.8540, Training accuracy: 0.6980\n",
      "2020-09-15 00:58:22.997234\n",
      "Validation...\n",
      "Validation loss: 0.8873, Validation accuracy: 0.6920\n",
      "Saving ...\n",
      "2020-09-15 00:58:24.063797\n",
      "Epoch 26:\n",
      "Training loss: 0.8563, Training accuracy: 0.6986\n",
      "2020-09-15 00:58:48.691882\n",
      "Validation...\n",
      "Validation loss: 0.8811, Validation accuracy: 0.6866\n",
      "Current learning rate has decayed to 0.010000\n",
      "2020-09-15 00:58:49.779147\n",
      "Epoch 27:\n",
      "Training loss: 0.8535, Training accuracy: 0.6988\n",
      "2020-09-15 00:59:14.480079\n",
      "Validation...\n",
      "Validation loss: 0.9194, Validation accuracy: 0.6706\n",
      "2020-09-15 00:59:15.551284\n",
      "Epoch 28:\n",
      "Training loss: 0.8511, Training accuracy: 0.7012\n",
      "2020-09-15 00:59:40.209035\n",
      "Validation...\n",
      "Validation loss: 0.8776, Validation accuracy: 0.6936\n",
      "Current learning rate has decayed to 0.010000\n",
      "Saving ...\n",
      "2020-09-15 00:59:41.276142\n",
      "Epoch 29:\n",
      "Training loss: 0.8373, Training accuracy: 0.7043\n",
      "2020-09-15 01:00:06.456094\n",
      "Validation...\n",
      "Validation loss: 0.8726, Validation accuracy: 0.6942\n",
      "Saving ...\n",
      "Optimization finished.\n"
     ]
    }
   ],
   "source": [
    "# Start the training/validation process\n",
    "# The process should take about 5 minutes on a GTX 1070-Ti\n",
    "# if the code is written efficiently.\n",
    "global_step = 0\n",
    "best_val_acc = 0\n",
    "\n",
    "for i in range(start_epoch, EPOCHS):\n",
    "    print(datetime.datetime.now())\n",
    "    # Switch to train mode\n",
    "    net.train()\n",
    "    print(\"Epoch %d:\" %i)\n",
    "\n",
    "    total_examples = 0\n",
    "    correct_examples = 0\n",
    "\n",
    "    train_loss = 0\n",
    "    train_acc = 0\n",
    "    \n",
    "    # Train the training dataset for 1 epoch.\n",
    "    for batch_idx, (inputs, targets) in enumerate(trainloader):\n",
    "        # Copy inputs to device\n",
    "        inputs = inputs.to(device)\n",
    "        targets = targets.to(device)\n",
    "        # Zero the gradient\n",
    "        optimizer.zero_grad()\n",
    "        # Generate output\n",
    "        outputs = net(inputs)\n",
    "        loss = criterion(outputs, targets)\n",
    "#         if i==0:\n",
    "#             print('initial loss: ',loss)\n",
    "        # Now backward loss\n",
    "        loss.backward()\n",
    "        # Apply gradient\n",
    "        optimizer.step()\n",
    "        # Calculate predicted labels\n",
    "        _, predicted = outputs.max(1)\n",
    "        total_examples += predicted.size(0)\n",
    "        correct_examples += predicted.eq(targets).sum().item()\n",
    "        train_loss += loss\n",
    "        global_step += 1\n",
    "                \n",
    "    avg_loss = train_loss / (batch_idx + 1)\n",
    "    avg_acc = correct_examples / total_examples\n",
    "    print(\"Training loss: %.4f, Training accuracy: %.4f\" %(avg_loss, avg_acc))\n",
    "    print(datetime.datetime.now())\n",
    "    # Validate on the validation dataset\n",
    "    print(\"Validation...\")\n",
    "    total_examples = 0\n",
    "    correct_examples = 0\n",
    "    \n",
    "    net.eval()\n",
    "\n",
    "    val_loss = 0\n",
    "    val_acc = 0\n",
    "    # Disable gradient during validation\n",
    "    with torch.no_grad():\n",
    "        for batch_idx, (inputs, targets) in enumerate(valloader):\n",
    "            # Copy inputs to device\n",
    "            inputs = inputs.to(device)\n",
    "            targets = targets.to(device)\n",
    "            # Zero the gradient\n",
    "            optimizer.zero_grad()\n",
    "            # Generate output from the DNN.\n",
    "            outputs = net(inputs)\n",
    "            loss = criterion(outputs, targets)            \n",
    "            # Calculate predicted labels\n",
    "            _, predicted = outputs.max(1)\n",
    "            total_examples += predicted.size(0)\n",
    "            correct_examples += predicted.eq(targets).sum().item()\n",
    "            val_loss += loss\n",
    "\n",
    "    avg_loss = val_loss / len(valloader)\n",
    "    avg_acc = correct_examples / total_examples\n",
    "    \n",
    "    print(\"Validation loss: %.4f, Validation accuracy: %.4f\" % (avg_loss, avg_acc))\n",
    "\n",
    "    # Handle the learning rate scheduler.\n",
    "    if i % DECAY_EPOCHS == 0 and i != 0:\n",
    "        current_learning_rate = current_learning_rate * DECAY\n",
    "        for param_group in optimizer.param_groups:\n",
    "            param_group['lr'] = current_learning_rate\n",
    "        print(\"Current learning rate has decayed to %f\" %current_learning_rate)\n",
    "    \n",
    "    # Save for checkpoint\n",
    "    if avg_acc > best_val_acc:\n",
    "        best_val_acc = avg_acc\n",
    "        if not os.path.exists(CHECKPOINT_PATH):\n",
    "            os.makedirs(CHECKPOINT_PATH)\n",
    "        print(\"Saving ...\")\n",
    "        state = {'net': net.state_dict(),\n",
    "                 'epoch': i,\n",
    "                 'lr': current_learning_rate}\n",
    "        torch.save(state, os.path.join(CHECKPOINT_PATH, 'model.h5'))\n",
    "\n",
    "print(\"Optimization finished.\")"
   ]
  },
  {
   "cell_type": "code",
   "execution_count": null,
   "metadata": {},
   "outputs": [],
   "source": []
  }
 ],
 "metadata": {
  "kernelspec": {
   "display_name": "Python 3",
   "language": "python",
   "name": "python3"
  },
  "language_info": {
   "codemirror_mode": {
    "name": "ipython",
    "version": 3
   },
   "file_extension": ".py",
   "mimetype": "text/x-python",
   "name": "python",
   "nbconvert_exporter": "python",
   "pygments_lexer": "ipython3",
   "version": "3.7.6"
  },
  "varInspector": {
   "cols": {
    "lenName": 16,
    "lenType": 16,
    "lenVar": 40
   },
   "kernels_config": {
    "python": {
     "delete_cmd_postfix": "",
     "delete_cmd_prefix": "del ",
     "library": "var_list.py",
     "varRefreshCmd": "print(var_dic_list())"
    },
    "r": {
     "delete_cmd_postfix": ") ",
     "delete_cmd_prefix": "rm(",
     "library": "var_list.r",
     "varRefreshCmd": "cat(var_dic_list()) "
    }
   },
   "types_to_exclude": [
    "module",
    "function",
    "builtin_function_or_method",
    "instance",
    "_Feature"
   ],
   "window_display": false
  }
 },
 "nbformat": 4,
 "nbformat_minor": 2
}
